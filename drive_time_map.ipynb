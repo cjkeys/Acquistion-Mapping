{
 "cells": [
  {
   "cell_type": "code",
   "execution_count": 4,
   "metadata": {},
   "outputs": [],
   "source": [
    "import openrouteservice\n",
    "import matplotlib.pyplot as plt\n",
    "from shapely.geometry import Polygon\n",
    "import geopandas as gpd\n",
    "import folium\n",
    "import pandas as pd\n",
    "import numpy as np"
   ]
  },
  {
   "cell_type": "markdown",
   "metadata": {},
   "source": [
    "## ORS stuff"
   ]
  },
  {
   "cell_type": "code",
   "execution_count": null,
   "metadata": {},
   "outputs": [],
   "source": [
    "# Your ORS API key\n",
    "api_key = '5b3ce3597851110001cf6248b79f1a724fa34b319b3fc464e0e491b8'\n",
    "\n",
    "# Initialize the client\n",
    "client = openrouteservice.Client(key=api_key)\n",
    "\n",
    "# Define the coordinates of the point (e.g., Farnborough, UK)\n",
    "coords = (-0.7521625439493003, 51.28508816635469, )  # Replace with your desired coordinates\n",
    "\n",
    "# Generate the isochrone with a 1-hour drive time (3600 seconds)\n",
    "isochrone = client.isochrones(\n",
    "    locations=[coords],\n",
    "    range_type='time',  # Alternatively, use 'distance' for distance-based isochrones\n",
    "    range=[3600],  # Time in seconds (1 hour = 3600 seconds)\n",
    "    profile='driving-car',\n",
    "    attributes = ['total_pop']\n",
    ")\n",
    "\n",
    "# Get the isochrone geometry (polygon) and population data\n",
    "isochrone_geom = isochrone['features'][0]['geometry']\n",
    "population = isochrone['features'][0]['properties']['total_pop']\n",
    "\n",
    "# Print the population in the isochrone area\n",
    "print(f\"Population within 1-hour drive time: {population}\")\n",
    "\n",
    "# Visualize the isochrone and population area\n",
    "isochrone_polygon = Polygon(isochrone_geom['coordinates'][0])\n",
    "\n",
    "# Create a GeoDataFrame for the isochrone polygon\n",
    "gdf_isochrone = gpd.GeoDataFrame({'geometry': [isochrone_polygon]}, crs=\"EPSG:4326\")\n",
    "\n",
    "# Plot the isochrone polygon\n",
    "gdf_isochrone.plot()\n",
    "plt.title('Isochrone with Population Area')\n",
    "plt.show()\n"
   ]
  },
  {
   "cell_type": "code",
   "execution_count": 133,
   "metadata": {},
   "outputs": [],
   "source": [
    "def getPolyPop(lat, long, drive_secs):\n",
    "    \n",
    "    coords = (long,lat)\n",
    "\n",
    "    try:\n",
    "        client = openrouteservice.Client(key=api_key)\n",
    "        isochrone = client.isochrones(\n",
    "            locations=[coords],\n",
    "            range_type='time',  # Alternatively, use 'distance' for distance-based isochrones\n",
    "            range=[drive_secs],  # Time in seconds (1 hour = 3600 seconds)\n",
    "            profile='driving-car',\n",
    "            attributes = ['total_pop']\n",
    "        )\n",
    "\n",
    "        # Get the isochrone geometry (polygon) and population data\n",
    "        coordinates = [list(reversed(coord)) for coord in isochrone['features'][0]['geometry']['coordinates'][0]]\n",
    "        population = isochrone['features'][0]['properties']['total_pop']\n",
    "\n",
    "        return [population, coordinates]\n",
    "\n",
    "    except:\n",
    "        return [None, None]"
   ]
  },
  {
   "cell_type": "code",
   "execution_count": null,
   "metadata": {},
   "outputs": [],
   "source": [
    "df_postcodes['population_1hr_drive'] = None\n",
    "df_postcodes['coordinates'] = None"
   ]
  },
  {
   "cell_type": "code",
   "execution_count": 307,
   "metadata": {},
   "outputs": [],
   "source": [
    "gpop, gcoords = getPolyPop(df_postcodes['latitude'][37], df_postcodes['longitude'][37], 3600)"
   ]
  },
  {
   "cell_type": "code",
   "execution_count": 309,
   "metadata": {},
   "outputs": [
    {
     "data": {
      "text/html": [
       "<div>\n",
       "<style scoped>\n",
       "    .dataframe tbody tr th:only-of-type {\n",
       "        vertical-align: middle;\n",
       "    }\n",
       "\n",
       "    .dataframe tbody tr th {\n",
       "        vertical-align: top;\n",
       "    }\n",
       "\n",
       "    .dataframe thead th {\n",
       "        text-align: right;\n",
       "    }\n",
       "</style>\n",
       "<table border=\"1\" class=\"dataframe\">\n",
       "  <thead>\n",
       "    <tr style=\"text-align: right;\">\n",
       "      <th></th>\n",
       "      <th>postcode</th>\n",
       "      <th>latitude</th>\n",
       "      <th>longitude</th>\n",
       "      <th>population_1hr_drive</th>\n",
       "      <th>coordinates</th>\n",
       "      <th>geometry</th>\n",
       "    </tr>\n",
       "  </thead>\n",
       "  <tbody>\n",
       "    <tr>\n",
       "      <th>37</th>\n",
       "      <td>G</td>\n",
       "      <td>55.993213</td>\n",
       "      <td>-4.438944</td>\n",
       "      <td>NaN</td>\n",
       "      <td>None</td>\n",
       "      <td>None</td>\n",
       "    </tr>\n",
       "  </tbody>\n",
       "</table>\n",
       "</div>"
      ],
      "text/plain": [
       "   postcode   latitude  longitude  population_1hr_drive coordinates geometry\n",
       "37        G  55.993213  -4.438944                   NaN        None     None"
      ]
     },
     "execution_count": 309,
     "metadata": {},
     "output_type": "execute_result"
    }
   ],
   "source": [
    "df_postcodes[df_postcodes['postcode'] == 'G']"
   ]
  },
  {
   "cell_type": "code",
   "execution_count": 135,
   "metadata": {},
   "outputs": [],
   "source": [
    "# Loop through each row and apply the function\n",
    "for idx, row in df_postcodes[37:].iterrows():\n",
    "    pop, coords = getPolyPop(row['latitude'], row['longitude'], 3600)  # 3600 is the time in seconds (e.g., 1 hour)\n",
    "    df_postcodes.at[idx, 'population'] = pop\n",
    "    df_postcodes.at[idx, 'coordinates'] = coords"
   ]
  },
  {
   "cell_type": "code",
   "execution_count": null,
   "metadata": {},
   "outputs": [],
   "source": [
    "df_postcodes.drop(columns='population_1hr_drive', inplace=True)\n",
    "df_postcodes.rename(columns={'population' : 'population_1hr_drive'}, inplace=True)\n",
    "df_postcodes = df_postcodes[['postcode', 'latitude', 'longitude','population_1hr_drive', 'coordinates']].copy()"
   ]
  },
  {
   "cell_type": "code",
   "execution_count": 153,
   "metadata": {},
   "outputs": [],
   "source": [
    "df_postcodes = df_postcodes.copy()"
   ]
  },
  {
   "cell_type": "code",
   "execution_count": 154,
   "metadata": {},
   "outputs": [],
   "source": [
    "df_postcodes[\"geometry\"] = df_postcodes[\"coordinates\"].apply(lambda x: Polygon(x) if x else None)"
   ]
  },
  {
   "cell_type": "code",
   "execution_count": 159,
   "metadata": {},
   "outputs": [],
   "source": [
    "gdf_postcodes = gpd.GeoDataFrame(df_postcodes, geometry=\"geometry\", crs=\"EPSG:4326\")\n",
    "gdf_postcodes.drop(columns='coordinates', inplace=True)"
   ]
  },
  {
   "cell_type": "code",
   "execution_count": 203,
   "metadata": {},
   "outputs": [],
   "source": [
    "from shapely.ops import transform\n",
    "from functools import partial\n",
    "\n",
    "def safe_swap_coordinates(geom):\n",
    "    if geom is None:\n",
    "        return None\n",
    "    \n",
    "    def swap_xy(x, y):\n",
    "        return (y, x)\n",
    "    \n",
    "    return transform(partial(swap_xy), geom)\n",
    "\n",
    "# Apply the transformation only to valid geometries\n",
    "gdf_postcodes.geometry = gdf_postcodes.geometry.apply(safe_swap_coordinates)"
   ]
  },
  {
   "cell_type": "code",
   "execution_count": 208,
   "metadata": {},
   "outputs": [],
   "source": [
    "gdf_postcodes.to_file(\"ukDriveTimesPops.geojson\", driver=\"GeoJSON\")"
   ]
  },
  {
   "cell_type": "code",
   "execution_count": 163,
   "metadata": {},
   "outputs": [],
   "source": [
    "df_postcodes[['postcode', 'latitude',\n",
    "'longitude', 'population_1hr_drive']].to_csv('UKpostcodeDriveTimePop.csv', index=False)"
   ]
  },
  {
   "cell_type": "code",
   "execution_count": null,
   "metadata": {},
   "outputs": [],
   "source": [
    "m = folium.Map(location=[51.503497255814956, -0.10784770401512589], tiles='cartodbpositron', zoom_start=13)\n",
    "\n",
    "for iso in isochrone['features']:\n",
    "    folium.Polygon(locations=[list(reversed(coord)) for coord in iso['geometry']['coordinates'][0]],\n",
    "                  fill='00ff00',\n",
    "                  popup=folium.Popup(\"Population: {} people\".format(iso['properties']['total_pop'])),\n",
    "                  opacity=0.5).add_to(m)\n",
    "    \n",
    "m"
   ]
  },
  {
   "cell_type": "code",
   "execution_count": 59,
   "metadata": {},
   "outputs": [],
   "source": [
    "df_postcodes = pd.read_csv('postcode_area_centroids.csv')"
   ]
  },
  {
   "cell_type": "code",
   "execution_count": 209,
   "metadata": {},
   "outputs": [],
   "source": [
    "gdf_postcodes2 = gpd.read_file('ukDriveTimesPops.geojson')"
   ]
  },
  {
   "cell_type": "code",
   "execution_count": null,
   "metadata": {},
   "outputs": [],
   "source": [
    "gdf_postcodes2['pop_mill'] = round(gdf_postcodes2['population_1hr_drive'] / 1000000, 2).astype(str) + \"m\"\n",
    "gdf_postcodes2.dropna(subset='geometry', inplace=True)"
   ]
  },
  {
   "cell_type": "code",
   "execution_count": null,
   "metadata": {},
   "outputs": [],
   "source": [
    "m = folium.Map(location=[centroid.y, centroid.x], zoom_start=5)\n",
    "\n",
    "for index, row in gdf_postcodes2.iterrows():\n",
    "    polygon = row[\"geometry\"]\n",
    "    postcode = row[\"postcode\"]  # Adjust column name as needed\n",
    "    population = row[\"pop_mill\"]  # Adjust column name as needed\n",
    "\n",
    "    # Get the centroid to center the map\n",
    "    centroid = polygon.centroid\n",
    "\n",
    "    # Add the polygon with tooltip\n",
    "    folium.GeoJson(\n",
    "        polygon,\n",
    "        tooltip=f\"Postcode: {postcode}<br>Population: {population}\"\n",
    "    ).add_to(m)\n",
    "\n",
    "    folium.Marker(\n",
    "        location = [row['latitude'], row['longitude']]\n",
    "    ).add_to(m)\n",
    "\n",
    "# Display the map\n",
    "m"
   ]
  },
  {
   "cell_type": "markdown",
   "metadata": {},
   "source": [
    "## get postcode area coords"
   ]
  },
  {
   "cell_type": "code",
   "execution_count": 5,
   "metadata": {},
   "outputs": [],
   "source": [
    "string = 'AB AL B BA BB BD BF BH BL BN BR BS BT BX CA CB CF CH CM CO CR CT CV CW DA DD DE DG DH DL DN DT DY E EC EH EN EX FK FY G GL GU GY HA HD HG HP HR HS HU HX IG IM IP IV JE KA KT KW KY L LA LD LE LL LN LS LU M ME MK ML N NE NG NN NP NR NW OL OX PA PE PH PL PO PR RG RH RM S SA SE SG SK SL SM SN SO SP SR SS ST SW SY TA TD TF TN TQ TR TS TW UB W WA WC WD WF WN WR WS WV YO ZE'\n",
    "list_str = string.split(' ')"
   ]
  },
  {
   "cell_type": "code",
   "execution_count": 3,
   "metadata": {},
   "outputs": [
    {
     "name": "stdout",
     "output_type": "stream",
     "text": [
      "Failed to read file for postcode A: name 'gpd' is not defined\n",
      "Failed to read file for postcode B: name 'gpd' is not defined\n"
     ]
    },
    {
     "ename": "NameError",
     "evalue": "name 'pd' is not defined",
     "output_type": "error",
     "traceback": [
      "\u001b[1;31m---------------------------------------------------------------------------\u001b[0m",
      "\u001b[1;31mNameError\u001b[0m                                 Traceback (most recent call last)",
      "Cell \u001b[1;32mIn[3], line 15\u001b[0m\n\u001b[0;32m     12\u001b[0m         \u001b[38;5;28mprint\u001b[39m(\u001b[38;5;124mf\u001b[39m\u001b[38;5;124m\"\u001b[39m\u001b[38;5;124mFailed to read file for postcode \u001b[39m\u001b[38;5;132;01m{\u001b[39;00mpostcode\u001b[38;5;132;01m}\u001b[39;00m\u001b[38;5;124m: \u001b[39m\u001b[38;5;132;01m{\u001b[39;00me\u001b[38;5;132;01m}\u001b[39;00m\u001b[38;5;124m\"\u001b[39m)\n\u001b[0;32m     13\u001b[0m         \u001b[38;5;28;01mcontinue\u001b[39;00m\n\u001b[1;32m---> 15\u001b[0m df \u001b[38;5;241m=\u001b[39m pd\u001b[38;5;241m.\u001b[39mDataFrame(rows, columns\u001b[38;5;241m=\u001b[39m[\u001b[38;5;124m'\u001b[39m\u001b[38;5;124mpostcode\u001b[39m\u001b[38;5;124m'\u001b[39m, \u001b[38;5;124m'\u001b[39m\u001b[38;5;124mlatitude\u001b[39m\u001b[38;5;124m'\u001b[39m, \u001b[38;5;124m'\u001b[39m\u001b[38;5;124mlongitude\u001b[39m\u001b[38;5;124m'\u001b[39m])\n",
      "\u001b[1;31mNameError\u001b[0m: name 'pd' is not defined"
     ]
    }
   ],
   "source": [
    "rows = []\n",
    "for postcode in list_str[0]:\n",
    "    try:\n",
    "        # Try reading the geojson file for each postcode\n",
    "        gdf = gpd.read_file(f\"https://raw.githubusercontent.com/missinglink/uk-postcode-polygons/refs/heads/master/geojson/{postcode}.geojson\")\n",
    "        \n",
    "        centroid = gdf.unary_union.centroid\n",
    "        rows.append([postcode, centroid.y, centroid.x])\n",
    "    \n",
    "    except Exception as e:\n",
    "        # If an error occurs, print a message and skip this postcode\n",
    "        print(f\"Failed to read file for postcode {postcode}: {e}\")\n",
    "        continue\n",
    "\n",
    "df = pd.DataFrame(rows, columns=['postcode', 'latitude', 'longitude'])"
   ]
  },
  {
   "cell_type": "code",
   "execution_count": 241,
   "metadata": {},
   "outputs": [
    {
     "name": "stdout",
     "output_type": "stream",
     "text": [
      "Failed to read file for postcode BF: HTTP Error 404: Not Found\n",
      "Failed to read file for postcode BT: HTTP Error 404: Not Found\n",
      "Failed to read file for postcode BX: HTTP Error 404: Not Found\n",
      "Failed to read file for postcode GY: HTTP Error 404: Not Found\n",
      "Failed to read file for postcode IM: HTTP Error 404: Not Found\n",
      "Failed to read file for postcode JE: HTTP Error 404: Not Found\n"
     ]
    }
   ],
   "source": [
    "rows = []\n",
    "for postcode in list_str:\n",
    "    try:\n",
    "        # Try reading the geojson file for each postcode\n",
    "        gdf = gpd.read_file(f\"https://raw.githubusercontent.com/missinglink/uk-postcode-polygons/refs/heads/master/geojson/{postcode}.geojson\")\n",
    "        \n",
    "        polygon = gdf.unary_union\n",
    "        rows.append([postcode, polygon])\n",
    "    \n",
    "    except Exception as e:\n",
    "        # If an error occurs, print a message and skip this postcode\n",
    "        print(f\"Failed to read file for postcode {postcode}: {e}\")\n",
    "        continue\n",
    "\n",
    "df_uk_poly = pd.DataFrame(rows, columns=['postcode', 'geometry'])\n",
    "gdf_uk_poly = gpd.GeoDataFrame(df_uk_poly, geometry='geometry')"
   ]
  },
  {
   "cell_type": "code",
   "execution_count": 245,
   "metadata": {},
   "outputs": [],
   "source": [
    "gdf_uk_poly.to_file('uk_postcode_area_polygons.geojson', driver=\"GeoJSON\")"
   ]
  },
  {
   "cell_type": "code",
   "execution_count": 47,
   "metadata": {},
   "outputs": [],
   "source": [
    "df.to_csv('postcode_area_centroids.csv', index=False)"
   ]
  },
  {
   "cell_type": "code",
   "execution_count": 247,
   "metadata": {},
   "outputs": [
    {
     "data": {
      "text/plain": [
       "Index(['postcode', 'latitude', 'longitude', 'population_1hr_drive', 'geometry',\n",
       "       'pop_mill'],\n",
       "      dtype='object')"
      ]
     },
     "execution_count": 247,
     "metadata": {},
     "output_type": "execute_result"
    }
   ],
   "source": [
    "gdf_postcodes2.columns"
   ]
  },
  {
   "cell_type": "code",
   "execution_count": 256,
   "metadata": {},
   "outputs": [],
   "source": [
    "gdf_merged = pd.merge(gdf_uk_poly, gdf_postcodes2[['postcode', 'latitude', 'longitude',\n",
    " 'population_1hr_drive','pop_mill']], on='postcode', how='left')"
   ]
  },
  {
   "cell_type": "code",
   "execution_count": 258,
   "metadata": {},
   "outputs": [],
   "source": [
    "gdf_merged = gdf_merged.set_crs(epsg=4326)"
   ]
  },
  {
   "cell_type": "code",
   "execution_count": 264,
   "metadata": {},
   "outputs": [
    {
     "data": {
      "text/plain": [
       "0"
      ]
     },
     "execution_count": 264,
     "metadata": {},
     "output_type": "execute_result"
    }
   ],
   "source": [
    "gdf_merged['geometry'].isna().sum()"
   ]
  },
  {
   "cell_type": "code",
   "execution_count": null,
   "metadata": {},
   "outputs": [],
   "source": [
    "m = folium.Map(location=[54.7, -2.92], zoom_start=5)\n",
    "\n",
    "for index, row in df_merged.iterrows():\n",
    "    polygon = row[\"geometry\"]\n",
    "    postcode = row[\"postcode\"]  # Adjust column name as needed\n",
    "    population = row['population_1hr_drive']\n",
    "    pop_label = row['pop_mill']\n",
    "\n",
    "    # Add the polygon with tooltip\n",
    "    folium.GeoJson(\n",
    "        polygon,\n",
    "        tooltip=f\"Postcode: {postcode}<br> Pop within 1 hour: {pop_label}\"\n",
    "    ).add_to(m)\n",
    "# Display the map\n",
    "m"
   ]
  },
  {
   "cell_type": "code",
   "execution_count": 349,
   "metadata": {},
   "outputs": [],
   "source": [
    "m = folium.Map(location=[53.7, -2.92], zoom_start=5, tiles=\"Cartodb Positron\")\n",
    "\n",
    "# Create Choropleth Layer\n",
    "folium.Choropleth(\n",
    "    geo_data=gdf_merged,  # GeoDataFrame with geometries\n",
    "    name=\"Population Density\",\n",
    "    data=gdf_merged,  # Data source for coloring\n",
    "    columns=[\"postcode\", \"population_1hr_drive\"],  # Key column & value column\n",
    "    key_on=\"feature.properties.postcode\",  # Match geojson with df column\n",
    "    fill_color=\"YlGnBu\",  # Color scheme (Yellow-Orange-Red)\n",
    "    fill_opacity=0.6,\n",
    "    line_weight=1,\n",
    "    legend_name=\"Population within 1-hour Drive\",\n",
    ").add_to(m)\n",
    "\n",
    "# Add GeoJSON layer with tooltips\n",
    "for _, row in gdf_merged.iterrows():\n",
    "    folium.GeoJson(\n",
    "        row[\"geometry\"],\n",
    "        tooltip=f\"Postcode: {row['postcode']}<br> Pop within 1 hour: {row['pop_mill']}\",\n",
    "        style_function=lambda feature: {\"fillOpacity\": 0, \"weight\": 0.1},  # Keep polygons visible but not colored\n",
    "    ).add_to(m)\n",
    "\n",
    "    # Add center point markers\n",
    "    # if pd.notna(row[\"latitude\"]) and pd.notna(row[\"longitude\"]):\n",
    "    #     folium.Circle(\n",
    "    #         location=[row[\"latitude\"], row[\"longitude\"]],\n",
    "    #         radius=3000,\n",
    "    #         color = \"orange\",\n",
    "    #         weight=1,\n",
    "    #         fill_opacity = 0.2,\n",
    "    #         tooltip=f\"Postcode: {row['postcode']}<br> Pop within 1 hour: {row['pop_mill']}\",\n",
    "    #     ).add_to(m)\n",
    "\n",
    "#Display the map\n",
    "m\n",
    "m.save('ukPostcodeDrivePopDensity.html')"
   ]
  }
 ],
 "metadata": {
  "kernelspec": {
   "display_name": "base",
   "language": "python",
   "name": "python3"
  },
  "language_info": {
   "codemirror_mode": {
    "name": "ipython",
    "version": 3
   },
   "file_extension": ".py",
   "mimetype": "text/x-python",
   "name": "python",
   "nbconvert_exporter": "python",
   "pygments_lexer": "ipython3",
   "version": "3.12.3"
  }
 },
 "nbformat": 4,
 "nbformat_minor": 2
}
